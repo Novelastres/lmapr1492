{
 "cells": [
  {
   "cell_type": "code",
   "execution_count": 6,
   "id": "lonely-corruption",
   "metadata": {},
   "outputs": [],
   "source": [
    "from pymatgen.ext.matproj import MPRester\n",
    "from pymatgen.core.lattice import Lattice as L\n",
    "from pymatgen import Structure\n",
    "from pymatgen.symmetry.analyzer import SpacegroupAnalyzer\n",
    "\n",
    "with MPRester(\"olRvFz7OOr5I9QmQg44w\") as m:\n",
    "\n",
    "    # Structure for material id\n",
    "    N2 = m.get_structure_by_material_id(\"mp-672233\")"
   ]
  },
  {
   "cell_type": "code",
   "execution_count": 45,
   "id": "complete-classification",
   "metadata": {},
   "outputs": [
    {
     "name": "stdout",
     "output_type": "stream",
     "text": [
      "Ses vecteurs de bases des son réseau direct sont:\n",
      "2.021595 -3.501506 0.000000\n",
      "2.021595 3.501506 0.000000\n",
      "0.000000 0.000000 6.670694\n"
     ]
    }
   ],
   "source": [
    "print(Les 3 vecteurs de bases des son réseau direct sont:\")\n",
    "print(N2.lattice)"
   ]
  },
  {
   "cell_type": "code",
   "execution_count": 49,
   "id": "otherwise-appreciation",
   "metadata": {},
   "outputs": [
    {
     "name": "stdout",
     "output_type": "stream",
     "text": [
      "Ses 3 vecteurs de bases de son réseau réciproque sont:\n",
      "1.554017 -0.897212 0.000000\n",
      "1.554017 0.897212 0.000000\n",
      "0.000000 0.000000 0.941909\n"
     ]
    }
   ],
   "source": [
    "print(\"Les 3 vecteurs de bases de son réseau réciproque sont:\")\n",
    "print(N2.lattice.reciprocal_lattice)"
   ]
  },
  {
   "cell_type": "code",
   "execution_count": 43,
   "id": "geographic-holmes",
   "metadata": {},
   "outputs": [
    {
     "name": "stdout",
     "output_type": "stream",
     "text": [
      "son type maille est : hexagonal\n",
      "son systeme crystallin est : hexagonal\n",
      "son groupe ponctuel est : 6/mmm\n"
     ]
    }
   ],
   "source": [
    "print(\"son type maille est :\",SpacegroupAnalyzer(N2).get_lattice_type())\n",
    "print(\"son systeme crystallin est :\",SpacegroupAnalyzer(N2).get_crystal_system())\n",
    "print(\"son groupe ponctuel est :\",SpacegroupAnalyzer(N2).get_point_group_symbol())"
   ]
  }
 ],
 "metadata": {
  "kernelspec": {
   "display_name": "Python 3",
   "language": "python",
   "name": "python3"
  },
  "language_info": {
   "codemirror_mode": {
    "name": "ipython",
    "version": 3
   },
   "file_extension": ".py",
   "mimetype": "text/x-python",
   "name": "python",
   "nbconvert_exporter": "python",
   "pygments_lexer": "ipython3",
   "version": "3.6.8"
  }
 },
 "nbformat": 4,
 "nbformat_minor": 5
}
