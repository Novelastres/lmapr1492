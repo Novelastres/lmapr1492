{
 "cells": [
  {
   "cell_type": "code",
   "execution_count": 9,
   "id": "adult-cleveland",
   "metadata": {},
   "outputs": [],
   "source": [
    "from pymatgen.ext.matproj import MPRester\n",
    "from pymatgen import Structure\n",
    "from pymatgen.analysis.diffraction import xrd"
   ]
  },
  {
   "cell_type": "code",
   "execution_count": 10,
   "id": "engaged-circus",
   "metadata": {},
   "outputs": [],
   "source": [
    "with MPRester(\"olRvFz7OOr5I9QmQg44w\") as m:\n",
    "\n",
    "    # Structure for material id\n",
    "    N2 = m.get_structure_by_material_id(\"mp-672233\")"
   ]
  },
  {
   "cell_type": "code",
   "execution_count": 11,
   "id": "graduate-doctor",
   "metadata": {},
   "outputs": [],
   "source": [
    "calculator = xrd.XRDCalculator(1.54060)"
   ]
  },
  {
   "cell_type": "code",
   "execution_count": 14,
   "id": "removable-strategy",
   "metadata": {},
   "outputs": [
    {
     "name": "stdout",
     "output_type": "stream",
     "text": [
      "1er pic : Intensité = 32.46527607116853 ; les Indices hkl associés (de formes (h, k, i, l)) = (1, 0, -1, 0)\n",
      "2ème pic : Intensité = 9.261773761470351 ; Indices hkl associés = (0, 0, 0, 2)\n",
      "3ème pic : Intensité = 100.0 ; Indices hkl associés = (1, 0, -1, 1)\n"
     ]
    }
   ],
   "source": [
    "print(\"1er pic : Intensité =\",calculator.get_pattern(N2).y[0],\"; les Indices hkl associés (de formes (h, k, i, l)) =\", calculator.get_pattern(N2,True).hkls[0][0]['hkl'])\n",
    "print(\"2ème pic : Intensité =\",calculator.get_pattern(N2).y[1],\"; Indices hkl associés =\", calculator.get_pattern(N2,True).hkls[1][0]['hkl'])\n",
    "print(\"3ème pic : Intensité =\",calculator.get_pattern(N2).y[2],\"; Indices hkl associés =\", calculator.get_pattern(N2,True).hkls[2][0]['hkl'])"
   ]
  },
  {
   "cell_type": "markdown",
   "id": "small-theme",
   "metadata": {},
   "source": [
    "Note : \n",
    "1. Les intensités sont mises à l'échelle (scaled = True dans la fonction get_pattern), avec le pic maximum mis à 100 (option par défaut de la fonction).\n",
    "2. Comme nous sommes dans le cas d'un système hexagonal, on utilise un quatrième indice de Miller i (i = -(h+k)) pour désigner une famille de plan (hkil) (dit indices de Bravais-Miller)."
   ]
  }
 ],
 "metadata": {
  "kernelspec": {
   "display_name": "Python 3",
   "language": "python",
   "name": "python3"
  },
  "language_info": {
   "codemirror_mode": {
    "name": "ipython",
    "version": 3
   },
   "file_extension": ".py",
   "mimetype": "text/x-python",
   "name": "python",
   "nbconvert_exporter": "python",
   "pygments_lexer": "ipython3",
   "version": "3.6.8"
  }
 },
 "nbformat": 4,
 "nbformat_minor": 5
}
